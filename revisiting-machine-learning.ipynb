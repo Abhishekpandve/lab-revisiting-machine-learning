{
 "cells": [
  {
   "cell_type": "code",
   "execution_count": 2,
   "metadata": {},
   "outputs": [],
   "source": [
    "import pandas as pd\n",
    "\n"
   ]
  },
  {
   "cell_type": "code",
   "execution_count": 3,
   "metadata": {},
   "outputs": [
    {
     "name": "stderr",
     "output_type": "stream",
     "text": [
      "C:\\Users\\sushr\\anaconda3\\lib\\site-packages\\IPython\\core\\interactiveshell.py:3146: DtypeWarning: Columns (8) have mixed types.Specify dtype option on import or set low_memory=False.\n",
      "  has_raised = await self.run_ast_nodes(code_ast.body, cell_name,\n"
     ]
    }
   ],
   "source": [
    "# Load the dataset\n",
    "df = pd.read_csv('learningSet.csv')"
   ]
  },
  {
   "cell_type": "code",
   "execution_count": 4,
   "metadata": {},
   "outputs": [],
   "source": [
    "# Check for null values in all columns\n",
    "null_values = df.isnull().sum()\n"
   ]
  },
  {
   "cell_type": "code",
   "execution_count": 5,
   "metadata": {},
   "outputs": [],
   "source": [
    "# Exclude variables based on definitions\n",
    "drop_list = ['OSOURCE', 'ZIP']\n",
    "df = df.drop(columns=drop_list)"
   ]
  },
  {
   "cell_type": "code",
   "execution_count": 6,
   "metadata": {},
   "outputs": [],
   "source": [
    "# Identify columns with over 50% missing values\n",
    "columns_to_remove = null_values[null_values > 0.5 * len(df)].index\n",
    "df = df.drop(columns=columns_to_remove)\n"
   ]
  },
  {
   "cell_type": "code",
   "execution_count": 7,
   "metadata": {},
   "outputs": [
    {
     "name": "stderr",
     "output_type": "stream",
     "text": [
      "<ipython-input-7-438898b3f993>:5: SettingWithCopyWarning: \n",
      "A value is trying to be set on a copy of a slice from a DataFrame.\n",
      "Try using .loc[row_indexer,col_indexer] = value instead\n",
      "\n",
      "See the caveats in the documentation: https://pandas.pydata.org/pandas-docs/stable/user_guide/indexing.html#returning-a-view-versus-a-copy\n",
      "  categorical['GENDER'] = categorical['GENDER'].fillna('F')\n"
     ]
    }
   ],
   "source": [
    "# Cleaning processes\n",
    "categorical = df.select_dtypes(include='object')\n",
    "\n",
    "# Replace null values in the 'GENDER' column\n",
    "categorical['GENDER'] = categorical['GENDER'].fillna('F')"
   ]
  },
  {
   "cell_type": "code",
   "execution_count": 8,
   "metadata": {},
   "outputs": [
    {
     "name": "stderr",
     "output_type": "stream",
     "text": [
      "<ipython-input-8-c4ff54d237d6>:2: SettingWithCopyWarning: \n",
      "A value is trying to be set on a copy of a slice from a DataFrame.\n",
      "Try using .loc[row_indexer,col_indexer] = value instead\n",
      "\n",
      "See the caveats in the documentation: https://pandas.pydata.org/pandas-docs/stable/user_guide/indexing.html#returning-a-view-versus-a-copy\n",
      "  categorical['GENDER'] = categorical['GENDER'].apply(lambda x: 'M' if x == 'M' else ('F' if x == 'F' else 'other'))\n"
     ]
    }
   ],
   "source": [
    "# Reduce the number of categories in the 'GENDER' column\n",
    "categorical['GENDER'] = categorical['GENDER'].apply(lambda x: 'M' if x == 'M' else ('F' if x == 'F' else 'other'))\n"
   ]
  },
  {
   "cell_type": "code",
   "execution_count": 9,
   "metadata": {},
   "outputs": [
    {
     "name": "stdout",
     "output_type": "stream",
     "text": [
      "Cleaned DataFrame:\n",
      "       ODATEDW  TCODE STATE MAILCODE PVASTATE   DOB NOEXCH RECINHSE RECP3  \\\n",
      "0         8901      0    IL                    3712      0                  \n",
      "1         9401      1    CA                    5202      0                  \n",
      "2         9001      1    NC                       0      0                  \n",
      "3         8701      0    CA                    2801      0                  \n",
      "4         8601      0    FL                    2001      0        X     X   \n",
      "...        ...    ...   ...      ...      ...   ...    ...      ...   ...   \n",
      "95407     9601      1    AK                       0      0                  \n",
      "95408     9601      1    TX                    5001      0                  \n",
      "95409     9501      1    MI                    3801      0              X   \n",
      "95410     8601      0    CA                    4005      0        X         \n",
      "95411     8801      2    NC                    1801      0        X         \n",
      "\n",
      "      RECPGVG  ... TARGET_D HPHONE_D RFA_2R RFA_2F  RFA_2A MDMAUD_R MDMAUD_F  \\\n",
      "0              ...      0.0        0      L      4       E        X        X   \n",
      "1              ...      0.0        0      L      2       G        X        X   \n",
      "2              ...      0.0        1      L      4       E        X        X   \n",
      "3              ...      0.0        1      L      4       E        X        X   \n",
      "4              ...      0.0        1      L      2       F        X        X   \n",
      "...       ...  ...      ...      ...    ...    ...     ...      ...      ...   \n",
      "95407          ...      0.0        0      L      1       G        X        X   \n",
      "95408          ...      0.0        1      L      1       F        X        X   \n",
      "95409          ...      0.0        1      L      3       E        X        X   \n",
      "95410          ...     18.0        1      L      4       F        X        X   \n",
      "95411       X  ...      0.0        1      L      1       G        C        1   \n",
      "\n",
      "      MDMAUD_A CLUSTER2 GEOCODE2  \n",
      "0            X     39.0        C  \n",
      "1            X      1.0        A  \n",
      "2            X     60.0        C  \n",
      "3            X     41.0        C  \n",
      "4            X     26.0        A  \n",
      "...        ...      ...      ...  \n",
      "95407        X     12.0        C  \n",
      "95408        X      2.0        A  \n",
      "95409        X     34.0        B  \n",
      "95410        X     11.0        A  \n",
      "95411        C     12.0        C  \n",
      "\n",
      "[95412 rows x 417 columns]\n"
     ]
    }
   ],
   "source": [
    "# Display the cleaned DataFrame\n",
    "print(\"Cleaned DataFrame:\")\n",
    "print(df)\n"
   ]
  },
  {
   "cell_type": "code",
   "execution_count": null,
   "metadata": {},
   "outputs": [],
   "source": []
  }
 ],
 "metadata": {
  "kernelspec": {
   "display_name": "Python 3",
   "language": "python",
   "name": "python3"
  },
  "language_info": {
   "codemirror_mode": {
    "name": "ipython",
    "version": 3
   },
   "file_extension": ".py",
   "mimetype": "text/x-python",
   "name": "python",
   "nbconvert_exporter": "python",
   "pygments_lexer": "ipython3",
   "version": "3.8.5"
  }
 },
 "nbformat": 4,
 "nbformat_minor": 4
}
